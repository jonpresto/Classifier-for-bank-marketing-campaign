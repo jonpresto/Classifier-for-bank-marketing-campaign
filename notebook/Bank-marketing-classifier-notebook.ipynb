{
 "cells": [
  {
   "cell_type": "markdown",
   "id": "3a591da2",
   "metadata": {},
   "source": [
    "Temp Link:  https://github.com/rab175/bank-marketing-classification/blob/master/Mod5_Project_Bank_Marketing_Classifier.ipynb"
   ]
  },
  {
   "cell_type": "markdown",
   "id": "ae16d74c",
   "metadata": {},
   "source": [
    "## 1. Project Overview\n",
    "\n",
    "\n",
    "### Background\n",
    "This project was designed to explore various machine learning models and methods with the task of binary classification.  The dataset used is bank marketing dataset taken from <b>UCI Machine Learning repository</b> (see details below).\n",
    "\n",
    "<b>Project goal:</b>  The goal of this project is to develop a model that predicts the success of the bank's direct marketing campaign (phone call) using the features provided in the dataset.  From a business perpespective, the predictions can be used to better target potential customers who are likely to subscribe (yes/no) into receiving the new product offering, which is a term deposit.\n",
    "\n",
    "### Citation\n",
    "This dataset is publicly available for research. The details are described in [Moro et al., 2014]. Please include this citation if you plan to use this database:\n",
    "\n",
    "[Moro et al., 2014] S. Moro, P. Cortez and P. Rita. A Data-Driven Approach to Predict the Success of Bank Telemarketing. Decision Support Systems, In press, <a href=\"https://www.sciencedirect.com/science/article/abs/pii/S016792361400061X?via%3Dihub\"> http://dx.doi.org/10.1016/j.dss.2014.03.001</a>\n",
    "\n",
    "Available at: [pdf] http://dx.doi.org/10.1016/j.dss.2014.03.001 [bib] http://www3.dsi.uminho.pt/pcortez/bib/2014-dss.txt\n",
    "\n",
    "Link to data: https://archive.ics.uci.edu/ml/datasets/Bank+Marketing"
   ]
  },
  {
   "cell_type": "markdown",
   "id": "cd80ad13",
   "metadata": {},
   "source": [
    "### Attribute Information:\n",
    "\n",
    "Input variables:\n",
    "#### bank client data:\n",
    "1 - age (numeric)\\\n",
    "2 - job : type of job (categorical: 'admin.','blue-collar','entrepreneur','housemaid','management','retired','self-employed','services','student','technician','unemployed','unknown')\\\n",
    "3 - marital : marital status (categorical: 'divorced','married','single','unknown'; note: 'divorced' means divorced or widowed)\\\n",
    "4 - education (categorical: 'basic.4y','basic.6y','basic.9y','high.school','illiterate','professional.course','university.degree','unknown')\\\n",
    "5 - default: has credit in default? (categorical: 'no','yes','unknown')\\\n",
    "6 - housing: has housing loan? (categorical: 'no','yes','unknown')\\\n",
    "7 - loan: has personal loan? (categorical: 'no','yes','unknown')\n",
    "#### related with the last contact of the current campaign:\n",
    "8 - contact: contact communication type (categorical: 'cellular','telephone')\\\n",
    "9 - month: last contact month of year (categorical: 'jan', 'feb', 'mar', ..., 'nov', 'dec')\\\n",
    "10 - day_of_week: last contact day of the week (categorical: 'mon','tue','wed','thu','fri')\\\n",
    "11 - duration: last contact duration, in seconds (numeric). Important note: this attribute highly affects the output target (e.g., if duration=0 then y='no'). Yet, the duration is not known before a call is performed. Also, after the end of the call y is obviously known. Thus, this input should only be included for benchmark purposes and should be discarded if the intention is to have a realistic predictive model.\n",
    "#### other attributes:\n",
    "12 - campaign: number of contacts performed during this campaign and for this client (numeric, includes last contact)\\\n",
    "13 - pdays: number of days that passed by after the client was last contacted from a previous campaign (numeric; 999 means client was not previously contacted)\\\n",
    "14 - previous: number of contacts performed before this campaign and for this client (numeric)\\\n",
    "15 - poutcome: outcome of the previous marketing campaign (categorical: 'failure','nonexistent','success')\n",
    "#### social and economic context attributes\n",
    "16 - emp.var.rate: employment variation rate - quarterly indicator (numeric)\\\n",
    "17 - cons.price.idx: consumer price index - monthly indicator (numeric)\\\n",
    "18 - cons.conf.idx: consumer confidence index - monthly indicator (numeric)\\\n",
    "19 - euribor3m: euribor 3 month rate - daily indicator (numeric)\\\n",
    "20 - nr.employed: number of employees - quarterly indicator (numeric)\n",
    "\n",
    "Output variable (desired target):\n",
    "21 - y - has the client subscribed a term deposit? (binary: 'yes','no')"
   ]
  },
  {
   "cell_type": "markdown",
   "id": "8fe2e409",
   "metadata": {},
   "source": [
    "## 2. Import Libaries and Data"
   ]
  },
  {
   "cell_type": "code",
   "execution_count": 2,
   "id": "7283ecda",
   "metadata": {},
   "outputs": [],
   "source": [
    "import pandas as pd\n",
    "import numpy as np\n",
    "\n",
    "import matplotlib.pyplot as plt\n",
    "%matplotlib inline\n",
    "import seaborn as sns\n",
    "plt.style.use('fivethirtyeight')\n",
    "\n",
    "from sklearn.model_selection import train_test_split\n",
    "from sklearn.decomposition import PCA\n",
    "from sklearn.model_selection import GridSearchCV\n",
    "from sklearn.model_selection import KFold\n",
    "from sklearn.neighbors import KNeighborsClassifier\n",
    "from sklearn.linear_model import LogisticRegression\n",
    "from sklearn.ensemble import RandomForestClassifier\n",
    "from sklearn.svm import SVC\n",
    "from sklearn.metrics import precision_score, recall_score, accuracy_score, f1_score\n",
    "from sklearn.metrics import accuracy_score\n",
    "from sklearn.metrics import classification_report\n",
    "from sklearn.metrics import confusion_matrix\n",
    "from sklearn.metrics import roc_auc_score, roc_curve, auc\n",
    "from sklearn.feature_selection import RFE\n",
    "\n",
    "import xgboost as xgb\n",
    "from xgboost import XGBClassifier\n",
    "from itertools import combinations\n",
    "\n",
    "import warnings\n",
    "warnings.filterwarnings(\"ignore\")"
   ]
  },
  {
   "cell_type": "code",
   "execution_count": 12,
   "id": "26ee329e",
   "metadata": {},
   "outputs": [
    {
     "data": {
      "text/html": [
       "<div>\n",
       "<style scoped>\n",
       "    .dataframe tbody tr th:only-of-type {\n",
       "        vertical-align: middle;\n",
       "    }\n",
       "\n",
       "    .dataframe tbody tr th {\n",
       "        vertical-align: top;\n",
       "    }\n",
       "\n",
       "    .dataframe thead th {\n",
       "        text-align: right;\n",
       "    }\n",
       "</style>\n",
       "<table border=\"1\" class=\"dataframe\">\n",
       "  <thead>\n",
       "    <tr style=\"text-align: right;\">\n",
       "      <th></th>\n",
       "      <th>age</th>\n",
       "      <th>job</th>\n",
       "      <th>marital</th>\n",
       "      <th>education</th>\n",
       "      <th>default</th>\n",
       "      <th>housing</th>\n",
       "      <th>loan</th>\n",
       "      <th>contact</th>\n",
       "      <th>month</th>\n",
       "      <th>day_of_week</th>\n",
       "      <th>duration</th>\n",
       "      <th>campaign</th>\n",
       "      <th>pdays</th>\n",
       "      <th>previous</th>\n",
       "      <th>poutcome</th>\n",
       "      <th>emp.var.rate</th>\n",
       "      <th>cons.price.idx</th>\n",
       "      <th>cons.conf.idx</th>\n",
       "      <th>euribor3m</th>\n",
       "      <th>nr.employed</th>\n",
       "      <th>y</th>\n",
       "    </tr>\n",
       "  </thead>\n",
       "  <tbody>\n",
       "    <tr>\n",
       "      <th>0</th>\n",
       "      <td>56</td>\n",
       "      <td>housemaid</td>\n",
       "      <td>married</td>\n",
       "      <td>basic.4y</td>\n",
       "      <td>no</td>\n",
       "      <td>no</td>\n",
       "      <td>no</td>\n",
       "      <td>telephone</td>\n",
       "      <td>may</td>\n",
       "      <td>mon</td>\n",
       "      <td>261</td>\n",
       "      <td>1</td>\n",
       "      <td>999</td>\n",
       "      <td>0</td>\n",
       "      <td>nonexistent</td>\n",
       "      <td>1.1</td>\n",
       "      <td>93.994</td>\n",
       "      <td>-36.4</td>\n",
       "      <td>4.857</td>\n",
       "      <td>5191.0</td>\n",
       "      <td>no</td>\n",
       "    </tr>\n",
       "    <tr>\n",
       "      <th>1</th>\n",
       "      <td>57</td>\n",
       "      <td>services</td>\n",
       "      <td>married</td>\n",
       "      <td>high.school</td>\n",
       "      <td>unknown</td>\n",
       "      <td>no</td>\n",
       "      <td>no</td>\n",
       "      <td>telephone</td>\n",
       "      <td>may</td>\n",
       "      <td>mon</td>\n",
       "      <td>149</td>\n",
       "      <td>1</td>\n",
       "      <td>999</td>\n",
       "      <td>0</td>\n",
       "      <td>nonexistent</td>\n",
       "      <td>1.1</td>\n",
       "      <td>93.994</td>\n",
       "      <td>-36.4</td>\n",
       "      <td>4.857</td>\n",
       "      <td>5191.0</td>\n",
       "      <td>no</td>\n",
       "    </tr>\n",
       "    <tr>\n",
       "      <th>2</th>\n",
       "      <td>37</td>\n",
       "      <td>services</td>\n",
       "      <td>married</td>\n",
       "      <td>high.school</td>\n",
       "      <td>no</td>\n",
       "      <td>yes</td>\n",
       "      <td>no</td>\n",
       "      <td>telephone</td>\n",
       "      <td>may</td>\n",
       "      <td>mon</td>\n",
       "      <td>226</td>\n",
       "      <td>1</td>\n",
       "      <td>999</td>\n",
       "      <td>0</td>\n",
       "      <td>nonexistent</td>\n",
       "      <td>1.1</td>\n",
       "      <td>93.994</td>\n",
       "      <td>-36.4</td>\n",
       "      <td>4.857</td>\n",
       "      <td>5191.0</td>\n",
       "      <td>no</td>\n",
       "    </tr>\n",
       "    <tr>\n",
       "      <th>3</th>\n",
       "      <td>40</td>\n",
       "      <td>admin.</td>\n",
       "      <td>married</td>\n",
       "      <td>basic.6y</td>\n",
       "      <td>no</td>\n",
       "      <td>no</td>\n",
       "      <td>no</td>\n",
       "      <td>telephone</td>\n",
       "      <td>may</td>\n",
       "      <td>mon</td>\n",
       "      <td>151</td>\n",
       "      <td>1</td>\n",
       "      <td>999</td>\n",
       "      <td>0</td>\n",
       "      <td>nonexistent</td>\n",
       "      <td>1.1</td>\n",
       "      <td>93.994</td>\n",
       "      <td>-36.4</td>\n",
       "      <td>4.857</td>\n",
       "      <td>5191.0</td>\n",
       "      <td>no</td>\n",
       "    </tr>\n",
       "    <tr>\n",
       "      <th>4</th>\n",
       "      <td>56</td>\n",
       "      <td>services</td>\n",
       "      <td>married</td>\n",
       "      <td>high.school</td>\n",
       "      <td>no</td>\n",
       "      <td>no</td>\n",
       "      <td>yes</td>\n",
       "      <td>telephone</td>\n",
       "      <td>may</td>\n",
       "      <td>mon</td>\n",
       "      <td>307</td>\n",
       "      <td>1</td>\n",
       "      <td>999</td>\n",
       "      <td>0</td>\n",
       "      <td>nonexistent</td>\n",
       "      <td>1.1</td>\n",
       "      <td>93.994</td>\n",
       "      <td>-36.4</td>\n",
       "      <td>4.857</td>\n",
       "      <td>5191.0</td>\n",
       "      <td>no</td>\n",
       "    </tr>\n",
       "  </tbody>\n",
       "</table>\n",
       "</div>"
      ],
      "text/plain": [
       "   age        job  marital    education  default housing loan    contact  \\\n",
       "0   56  housemaid  married     basic.4y       no      no   no  telephone   \n",
       "1   57   services  married  high.school  unknown      no   no  telephone   \n",
       "2   37   services  married  high.school       no     yes   no  telephone   \n",
       "3   40     admin.  married     basic.6y       no      no   no  telephone   \n",
       "4   56   services  married  high.school       no      no  yes  telephone   \n",
       "\n",
       "  month day_of_week  duration  campaign  pdays  previous     poutcome  \\\n",
       "0   may         mon       261         1    999         0  nonexistent   \n",
       "1   may         mon       149         1    999         0  nonexistent   \n",
       "2   may         mon       226         1    999         0  nonexistent   \n",
       "3   may         mon       151         1    999         0  nonexistent   \n",
       "4   may         mon       307         1    999         0  nonexistent   \n",
       "\n",
       "   emp.var.rate  cons.price.idx  cons.conf.idx  euribor3m  nr.employed   y  \n",
       "0           1.1          93.994          -36.4      4.857       5191.0  no  \n",
       "1           1.1          93.994          -36.4      4.857       5191.0  no  \n",
       "2           1.1          93.994          -36.4      4.857       5191.0  no  \n",
       "3           1.1          93.994          -36.4      4.857       5191.0  no  \n",
       "4           1.1          93.994          -36.4      4.857       5191.0  no  "
      ]
     },
     "execution_count": 12,
     "metadata": {},
     "output_type": "execute_result"
    }
   ],
   "source": [
    "#importing dataset\n",
    "#dataset = pd.read_csv(\"data/bank-additional-full.csv\", sep = \";\")\n",
    "# df = pd.read_csv(\"data/bank-additional.csv\", sep = \";\")\n",
    "df = pd.read_csv(\"data/bank-additional-full.csv\", sep = \";\")\n",
    "pd.set_option('display.max_columns', None)\n",
    "df.head()"
   ]
  },
  {
   "cell_type": "code",
   "execution_count": 13,
   "id": "5774dfbf",
   "metadata": {},
   "outputs": [
    {
     "data": {
      "text/plain": [
       "(41188, 21)"
      ]
     },
     "execution_count": 13,
     "metadata": {},
     "output_type": "execute_result"
    }
   ],
   "source": [
    "df.shape"
   ]
  },
  {
   "cell_type": "code",
   "execution_count": 9,
   "id": "87ef36d8",
   "metadata": {},
   "outputs": [
    {
     "name": "stdout",
     "output_type": "stream",
     "text": [
      "<class 'pandas.core.frame.DataFrame'>\n",
      "RangeIndex: 4119 entries, 0 to 4118\n",
      "Data columns (total 21 columns):\n",
      " #   Column          Non-Null Count  Dtype  \n",
      "---  ------          --------------  -----  \n",
      " 0   age             4119 non-null   int64  \n",
      " 1   job             4119 non-null   object \n",
      " 2   marital         4119 non-null   object \n",
      " 3   education       4119 non-null   object \n",
      " 4   default         4119 non-null   object \n",
      " 5   housing         4119 non-null   object \n",
      " 6   loan            4119 non-null   object \n",
      " 7   contact         4119 non-null   object \n",
      " 8   month           4119 non-null   object \n",
      " 9   day_of_week     4119 non-null   object \n",
      " 10  duration        4119 non-null   int64  \n",
      " 11  campaign        4119 non-null   int64  \n",
      " 12  pdays           4119 non-null   int64  \n",
      " 13  previous        4119 non-null   int64  \n",
      " 14  poutcome        4119 non-null   object \n",
      " 15  emp.var.rate    4119 non-null   float64\n",
      " 16  cons.price.idx  4119 non-null   float64\n",
      " 17  cons.conf.idx   4119 non-null   float64\n",
      " 18  euribor3m       4119 non-null   float64\n",
      " 19  nr.employed     4119 non-null   float64\n",
      " 20  y               4119 non-null   object \n",
      "dtypes: float64(5), int64(5), object(11)\n",
      "memory usage: 675.9+ KB\n"
     ]
    }
   ],
   "source": [
    "# check the data types and number of entries for each variable\n",
    "df.info()"
   ]
  },
  {
   "cell_type": "markdown",
   "id": "59e56081",
   "metadata": {},
   "source": [
    "### Initial data observations\n",
    "* In the full dataset, there are about 41188 variables including the target variable `y`\n",
    "* Although there are no missing values, we already know there are placeholder values which act as missing values"
   ]
  },
  {
   "cell_type": "code",
   "execution_count": 14,
   "id": "0b5428fd",
   "metadata": {},
   "outputs": [
    {
     "data": {
      "text/html": [
       "<div>\n",
       "<style scoped>\n",
       "    .dataframe tbody tr th:only-of-type {\n",
       "        vertical-align: middle;\n",
       "    }\n",
       "\n",
       "    .dataframe tbody tr th {\n",
       "        vertical-align: top;\n",
       "    }\n",
       "\n",
       "    .dataframe thead th {\n",
       "        text-align: right;\n",
       "    }\n",
       "</style>\n",
       "<table border=\"1\" class=\"dataframe\">\n",
       "  <thead>\n",
       "    <tr style=\"text-align: right;\">\n",
       "      <th></th>\n",
       "      <th>age</th>\n",
       "      <th>duration</th>\n",
       "      <th>campaign</th>\n",
       "      <th>pdays</th>\n",
       "      <th>previous</th>\n",
       "      <th>emp.var.rate</th>\n",
       "      <th>cons.price.idx</th>\n",
       "      <th>cons.conf.idx</th>\n",
       "      <th>euribor3m</th>\n",
       "      <th>nr.employed</th>\n",
       "    </tr>\n",
       "  </thead>\n",
       "  <tbody>\n",
       "    <tr>\n",
       "      <th>count</th>\n",
       "      <td>41188.00000</td>\n",
       "      <td>41188.000000</td>\n",
       "      <td>41188.000000</td>\n",
       "      <td>41188.000000</td>\n",
       "      <td>41188.000000</td>\n",
       "      <td>41188.000000</td>\n",
       "      <td>41188.000000</td>\n",
       "      <td>41188.000000</td>\n",
       "      <td>41188.000000</td>\n",
       "      <td>41188.000000</td>\n",
       "    </tr>\n",
       "    <tr>\n",
       "      <th>mean</th>\n",
       "      <td>40.02406</td>\n",
       "      <td>258.285010</td>\n",
       "      <td>2.567593</td>\n",
       "      <td>962.475454</td>\n",
       "      <td>0.172963</td>\n",
       "      <td>0.081886</td>\n",
       "      <td>93.575664</td>\n",
       "      <td>-40.502600</td>\n",
       "      <td>3.621291</td>\n",
       "      <td>5167.035911</td>\n",
       "    </tr>\n",
       "    <tr>\n",
       "      <th>std</th>\n",
       "      <td>10.42125</td>\n",
       "      <td>259.279249</td>\n",
       "      <td>2.770014</td>\n",
       "      <td>186.910907</td>\n",
       "      <td>0.494901</td>\n",
       "      <td>1.570960</td>\n",
       "      <td>0.578840</td>\n",
       "      <td>4.628198</td>\n",
       "      <td>1.734447</td>\n",
       "      <td>72.251528</td>\n",
       "    </tr>\n",
       "    <tr>\n",
       "      <th>min</th>\n",
       "      <td>17.00000</td>\n",
       "      <td>0.000000</td>\n",
       "      <td>1.000000</td>\n",
       "      <td>0.000000</td>\n",
       "      <td>0.000000</td>\n",
       "      <td>-3.400000</td>\n",
       "      <td>92.201000</td>\n",
       "      <td>-50.800000</td>\n",
       "      <td>0.634000</td>\n",
       "      <td>4963.600000</td>\n",
       "    </tr>\n",
       "    <tr>\n",
       "      <th>25%</th>\n",
       "      <td>32.00000</td>\n",
       "      <td>102.000000</td>\n",
       "      <td>1.000000</td>\n",
       "      <td>999.000000</td>\n",
       "      <td>0.000000</td>\n",
       "      <td>-1.800000</td>\n",
       "      <td>93.075000</td>\n",
       "      <td>-42.700000</td>\n",
       "      <td>1.344000</td>\n",
       "      <td>5099.100000</td>\n",
       "    </tr>\n",
       "    <tr>\n",
       "      <th>50%</th>\n",
       "      <td>38.00000</td>\n",
       "      <td>180.000000</td>\n",
       "      <td>2.000000</td>\n",
       "      <td>999.000000</td>\n",
       "      <td>0.000000</td>\n",
       "      <td>1.100000</td>\n",
       "      <td>93.749000</td>\n",
       "      <td>-41.800000</td>\n",
       "      <td>4.857000</td>\n",
       "      <td>5191.000000</td>\n",
       "    </tr>\n",
       "    <tr>\n",
       "      <th>75%</th>\n",
       "      <td>47.00000</td>\n",
       "      <td>319.000000</td>\n",
       "      <td>3.000000</td>\n",
       "      <td>999.000000</td>\n",
       "      <td>0.000000</td>\n",
       "      <td>1.400000</td>\n",
       "      <td>93.994000</td>\n",
       "      <td>-36.400000</td>\n",
       "      <td>4.961000</td>\n",
       "      <td>5228.100000</td>\n",
       "    </tr>\n",
       "    <tr>\n",
       "      <th>max</th>\n",
       "      <td>98.00000</td>\n",
       "      <td>4918.000000</td>\n",
       "      <td>56.000000</td>\n",
       "      <td>999.000000</td>\n",
       "      <td>7.000000</td>\n",
       "      <td>1.400000</td>\n",
       "      <td>94.767000</td>\n",
       "      <td>-26.900000</td>\n",
       "      <td>5.045000</td>\n",
       "      <td>5228.100000</td>\n",
       "    </tr>\n",
       "  </tbody>\n",
       "</table>\n",
       "</div>"
      ],
      "text/plain": [
       "               age      duration      campaign         pdays      previous  \\\n",
       "count  41188.00000  41188.000000  41188.000000  41188.000000  41188.000000   \n",
       "mean      40.02406    258.285010      2.567593    962.475454      0.172963   \n",
       "std       10.42125    259.279249      2.770014    186.910907      0.494901   \n",
       "min       17.00000      0.000000      1.000000      0.000000      0.000000   \n",
       "25%       32.00000    102.000000      1.000000    999.000000      0.000000   \n",
       "50%       38.00000    180.000000      2.000000    999.000000      0.000000   \n",
       "75%       47.00000    319.000000      3.000000    999.000000      0.000000   \n",
       "max       98.00000   4918.000000     56.000000    999.000000      7.000000   \n",
       "\n",
       "       emp.var.rate  cons.price.idx  cons.conf.idx     euribor3m   nr.employed  \n",
       "count  41188.000000    41188.000000   41188.000000  41188.000000  41188.000000  \n",
       "mean       0.081886       93.575664     -40.502600      3.621291   5167.035911  \n",
       "std        1.570960        0.578840       4.628198      1.734447     72.251528  \n",
       "min       -3.400000       92.201000     -50.800000      0.634000   4963.600000  \n",
       "25%       -1.800000       93.075000     -42.700000      1.344000   5099.100000  \n",
       "50%        1.100000       93.749000     -41.800000      4.857000   5191.000000  \n",
       "75%        1.400000       93.994000     -36.400000      4.961000   5228.100000  \n",
       "max        1.400000       94.767000     -26.900000      5.045000   5228.100000  "
      ]
     },
     "execution_count": 14,
     "metadata": {},
     "output_type": "execute_result"
    }
   ],
   "source": [
    "# show summary statistics for each numerical feature\n",
    "df.describe()"
   ]
  },
  {
   "cell_type": "markdown",
   "id": "0421fbb2",
   "metadata": {},
   "source": [
    "#### Notes:\n",
    "* `duration` has a lot of variance\n",
    "* the mean and median of `campaign` are very close, but the max value is much higher\n",
    "* the placeholder `999` has significant influence over `pdays`\n",
    "* most other variables appear somewhat stable and normally distributed. With exploratory data analysis, we can further validate this"
   ]
  },
  {
   "cell_type": "markdown",
   "id": "bfb1b6b5",
   "metadata": {},
   "source": [
    "## 3. Data Cleansing and Preparation\n",
    "\n",
    "In this section we will perform the following tasks:\n",
    "1. Check missing values and how to deal with them\n",
    "2. Inspect and learn more about the values in each feature\n",
    "3. Inspect `999` placeholder values and determine how to handle them:\n",
    "    * Imputation\n",
    "    * Drop entries or entire feature\n",
    "    * Leave them as is"
   ]
  },
  {
   "cell_type": "code",
   "execution_count": 15,
   "id": "77cba645",
   "metadata": {},
   "outputs": [
    {
     "data": {
      "text/plain": [
       "age               False\n",
       "job               False\n",
       "marital           False\n",
       "education         False\n",
       "default           False\n",
       "housing           False\n",
       "loan              False\n",
       "contact           False\n",
       "month             False\n",
       "day_of_week       False\n",
       "duration          False\n",
       "campaign          False\n",
       "pdays             False\n",
       "previous          False\n",
       "poutcome          False\n",
       "emp.var.rate      False\n",
       "cons.price.idx    False\n",
       "cons.conf.idx     False\n",
       "euribor3m         False\n",
       "nr.employed       False\n",
       "y                 False\n",
       "dtype: bool"
      ]
     },
     "execution_count": 15,
     "metadata": {},
     "output_type": "execute_result"
    }
   ],
   "source": [
    "# 3-1:  Check for any na values in the dataset\n",
    "df.isna().any()"
   ]
  },
  {
   "cell_type": "markdown",
   "id": "54f824cd",
   "metadata": {},
   "source": [
    "There are no missing values, so we can proceed to next step."
   ]
  },
  {
   "cell_type": "code",
   "execution_count": 18,
   "id": "efd83239",
   "metadata": {},
   "outputs": [
    {
     "name": "stdout",
     "output_type": "stream",
     "text": [
      "There are 11 categorical features: \n",
      " ['job', 'marital', 'education', 'default', 'housing', 'loan', 'contact', 'month', 'day_of_week', 'poutcome', 'y']\n",
      "****************************************************************\n",
      "There are 10 numerical variables: \n",
      " ['age', 'duration', 'campaign', 'pdays', 'previous', 'emp.var.rate', 'cons.price.idx', 'cons.conf.idx', 'euribor3m', 'nr.employed']\n"
     ]
    }
   ],
   "source": [
    "# 3-2: Inspect values in each feature\n",
    "\n",
    "# Separate features into categorical and numerical groups\n",
    "numerical_features = []\n",
    "categorical_features = []\n",
    "\n",
    "for col in df.columns: \n",
    "    if df[col].dtype == 'O':\n",
    "        categorical_features.append(col)\n",
    "    else: \n",
    "        numerical_features.append(col)\n",
    "\n",
    "print(f'There are {len(categorical_features)} categorical features: \\n', categorical_features)\n",
    "print('********' * 8)\n",
    "print(f'There are {len(numerical_features)} numerical variables: \\n', numerical_features)"
   ]
  },
  {
   "cell_type": "code",
   "execution_count": 32,
   "id": "6d77509b",
   "metadata": {},
   "outputs": [
    {
     "name": "stdout",
     "output_type": "stream",
     "text": [
      "\n",
      "Unique values for job: 12\n",
      " admin.           25.30\n",
      "blue-collar      22.47\n",
      "technician       16.37\n",
      "services          9.64\n",
      "management        7.10\n",
      "retired           4.18\n",
      "entrepreneur      3.54\n",
      "self-employed     3.45\n",
      "housemaid         2.57\n",
      "unemployed        2.46\n",
      "student           2.12\n",
      "unknown           0.80\n",
      "Name: job, dtype: float64\n",
      "\n",
      "Unique values for marital: 4\n",
      " married     60.52\n",
      "single      28.09\n",
      "divorced    11.20\n",
      "unknown      0.19\n",
      "Name: marital, dtype: float64\n",
      "\n",
      "Unique values for education: 8\n",
      " university.degree      29.54\n",
      "high.school            23.10\n",
      "basic.9y               14.68\n",
      "professional.course    12.73\n",
      "basic.4y               10.14\n",
      "basic.6y                5.56\n",
      "unknown                 4.20\n",
      "illiterate              0.04\n",
      "Name: education, dtype: float64\n",
      "\n",
      "Unique values for default: 3\n",
      " no         79.12\n",
      "unknown    20.87\n",
      "yes         0.01\n",
      "Name: default, dtype: float64\n",
      "\n",
      "Unique values for housing: 3\n",
      " yes        52.38\n",
      "no         45.21\n",
      "unknown     2.40\n",
      "Name: housing, dtype: float64\n",
      "\n",
      "Unique values for loan: 3\n",
      " no         82.43\n",
      "yes        15.17\n",
      "unknown     2.40\n",
      "Name: loan, dtype: float64\n",
      "\n",
      "Unique values for contact: 2\n",
      " cellular     63.47\n",
      "telephone    36.53\n",
      "Name: contact, dtype: float64\n",
      "\n",
      "Unique values for month: 10\n",
      " may    33.43\n",
      "jul    17.42\n",
      "aug    15.00\n",
      "jun    12.91\n",
      "nov     9.96\n",
      "apr     6.39\n",
      "oct     1.74\n",
      "sep     1.38\n",
      "mar     1.33\n",
      "dec     0.44\n",
      "Name: month, dtype: float64\n",
      "\n",
      "Unique values for day_of_week: 5\n",
      " thu    20.94\n",
      "mon    20.67\n",
      "wed    19.75\n",
      "tue    19.64\n",
      "fri    19.00\n",
      "Name: day_of_week, dtype: float64\n",
      "\n",
      "Unique values for poutcome: 3\n",
      " nonexistent    86.34\n",
      "failure        10.32\n",
      "success         3.33\n",
      "Name: poutcome, dtype: float64\n",
      "\n",
      "Unique values for y: 2\n",
      " no     88.73\n",
      "yes    11.27\n",
      "Name: y, dtype: float64\n"
     ]
    }
   ],
   "source": [
    "# check the number of unique values and its percent distribution\n",
    "# for each categorical variable\n",
    "for v in categorical_features:\n",
    "    print(f'\\nUnique values for {v}: {df[v].nunique()}\\n',\n",
    "          str(round(df[v].value_counts(normalize=True)*100, 2)))"
   ]
  },
  {
   "cell_type": "markdown",
   "id": "c8830653",
   "metadata": {},
   "source": [
    "#### Categorical value observations:\n",
    "* `job`: There are 12 unique values for job and is well distributed\n",
    "    - Less than 1% of values are `unknown`\n",
    "    - Given the relatively small number of unknowns and much larger number of unique values, these missing values should not have a major influence on our model, so we can leave it alone for now\n",
    "* `marital`: There are 4 unique values including the `unknown` having a distribution that seems representative\n",
    "    - Less than 0.2% of values are `unknown`. Given the small distribution, we can safely impute values by applying the known distribution to the unknown values\n",
    "    - When performing one-hot encoding, this will eliminate one unneccessary variable\n",
    "* `education`: There are 8 unique values with 4.2% unknown\n",
    "    - Consider imputing values since given its relatively small percentage\n",
    "    - We can also apply the known distribution to the unknown values\n",
    "* `default`: A binary yes/no variable, but also includes just over 20% `unknown`\n",
    "\t- This would be a large value to impute or drop\n",
    "\t- Given the small distribution for `yes` we could safely code all `unknowns` as `no`\n",
    "\t- But, this is also interesting business case, if lack of knowledge of a default actually positively or negatively impacts to a successful marketing call, so we will also leave `unknown` in place for now\n",
    "* `housing`: A binary yes/no variable, but with a much smaller amount of unknowns, 2.4% \n",
    "    - For this variable we can likely safely impute again by applying the known distribution\n",
    "* `loan`: Another binary yes/no variable with the same % of unknowns\n",
    "    - We can also impute values\n",
    "    - With the same amount of unknowns as `housing`, it would be interesting to see if they are the same entries, and if they are missing more data should perhaps be dropped altogether\n",
    "* `contact`: This variable is interestingly binary as well, between `cellular` and `telephone`, we'll have to pay attention to how it is coded when we transform to dummies\n",
    "* `month`: It appears this campaign was only for 10 months and heavily focused on the spring and early summer\n",
    "* `day_of_week`: Calls were only made during the work week and seem very evenly distributed\n",
    "\t- Given the even distribution it will be very interesting to see if one day of the week was more fruitful that others\n",
    "* `poutcome`: It appears that most people that had been contacted were not part of a previous campaign\n",
    "\t- For those that were previously contacted it will be very interesting to see if it has an influence on future success - especially those that were successfully reached previously\n",
    "* `y`: The target variable. No missing values here! Also it is good that we have a fairly significant positive rate with 11.27%.\n",
    "\n",
    "#### Numerical value observations: \n",
    "We've already previously seen the descriptive statistics of our continuous variables above and with continue to explore them in our EDA.\n",
    "\n",
    "We do however know that we need to deal with the `999` placeholder for `pdays`"
   ]
  },
  {
   "cell_type": "code",
   "execution_count": 33,
   "id": "9070b5b0",
   "metadata": {},
   "outputs": [],
   "source": [
    "# impute values using function based on the weights of the currently known values\n",
    "# write a function that takes a variable and returns a randomly selected \n",
    "# value if the variable is 'unknown'\n",
    "def impute_values(variable, values, prob):\n",
    "    if variable == 'unknown':\n",
    "        return np.random.choice(values, p=prob)\n",
    "    else: \n",
    "        return variable"
   ]
  },
  {
   "cell_type": "markdown",
   "id": "dba4ac6b",
   "metadata": {},
   "source": [
    "#### Handling Marital unknown"
   ]
  },
  {
   "cell_type": "code",
   "execution_count": 35,
   "id": "be89f7de",
   "metadata": {},
   "outputs": [
    {
     "data": {
      "text/plain": [
       "['divorced', 'single', 'married']"
      ]
     },
     "execution_count": 35,
     "metadata": {},
     "output_type": "execute_result"
    }
   ],
   "source": [
    "# get a unique list values and drop 'unknown'\n",
    "values = list(set(df.marital.values))\n",
    "values.remove('unknown')\n",
    "values"
   ]
  },
  {
   "cell_type": "code",
   "execution_count": 36,
   "id": "716541be",
   "metadata": {},
   "outputs": [
    {
     "data": {
      "text/plain": [
       "[0.6064026466867763, 0.2814050793032986, 0.11219227400992507]"
      ]
     },
     "execution_count": 36,
     "metadata": {},
     "output_type": "execute_result"
    }
   ],
   "source": [
    "# determine the weight of each value in the category \n",
    "prob = df[df['marital'] != 'unknown'].marital.value_counts(normalize=True)\n",
    "prob = [i/sum(prob) for i in prob]\n",
    "prob"
   ]
  },
  {
   "cell_type": "code",
   "execution_count": 38,
   "id": "6b572568",
   "metadata": {},
   "outputs": [
    {
     "data": {
      "text/plain": [
       "married     0.605225\n",
       "single      0.280859\n",
       "divorced    0.111974\n",
       "unknown     0.001942\n",
       "Name: marital, dtype: float64"
      ]
     },
     "execution_count": 38,
     "metadata": {},
     "output_type": "execute_result"
    }
   ],
   "source": [
    "# check the current distribution of values\n",
    "df.marital.value_counts(normalize=True)"
   ]
  },
  {
   "cell_type": "code",
   "execution_count": 40,
   "id": "c5e1612c",
   "metadata": {},
   "outputs": [],
   "source": [
    "# impute the values for 'unknown'\n",
    "df.marital = df.marital.map(lambda x: impute_values(x, values, prob))"
   ]
  },
  {
   "cell_type": "code",
   "execution_count": 41,
   "id": "e0796665",
   "metadata": {},
   "outputs": [
    {
     "data": {
      "text/plain": [
       "married     0.605492\n",
       "single      0.281368\n",
       "divorced    0.113140\n",
       "Name: marital, dtype: float64"
      ]
     },
     "execution_count": 41,
     "metadata": {},
     "output_type": "execute_result"
    }
   ],
   "source": [
    "# recheck the new distribution of values\n",
    "df.marital.value_counts(normalize=True)"
   ]
  },
  {
   "cell_type": "markdown",
   "id": "740f597b",
   "metadata": {},
   "source": [
    "#### Handling Education unknown"
   ]
  },
  {
   "cell_type": "code",
   "execution_count": 43,
   "id": "04367a70",
   "metadata": {},
   "outputs": [
    {
     "data": {
      "text/plain": [
       "['professional.course',\n",
       " 'basic.9y',\n",
       " 'high.school',\n",
       " 'basic.6y',\n",
       " 'basic.4y',\n",
       " 'illiterate',\n",
       " 'university.degree']"
      ]
     },
     "execution_count": 43,
     "metadata": {},
     "output_type": "execute_result"
    }
   ],
   "source": [
    "# get a unique list values and drop 'unknown'\n",
    "values = list(set(df.education.values))\n",
    "values.remove('unknown')\n",
    "values"
   ]
  },
  {
   "cell_type": "code",
   "execution_count": 44,
   "id": "34d841be",
   "metadata": {},
   "outputs": [
    {
     "data": {
      "text/plain": [
       "[0.3083863446283296,\n",
       " 0.2411485921382771,\n",
       " 0.15320475454292015,\n",
       " 0.13287883011886356,\n",
       " 0.10583673365942672,\n",
       " 0.05808855209468535,\n",
       " 0.00045619281749752894]"
      ]
     },
     "execution_count": 44,
     "metadata": {},
     "output_type": "execute_result"
    }
   ],
   "source": [
    "# determine the weight of each value in the category \n",
    "prob = df[df['education'] != 'unknown'].education.value_counts(normalize=True)\n",
    "prob = [i/sum(prob) for i in prob]\n",
    "prob"
   ]
  },
  {
   "cell_type": "code",
   "execution_count": 46,
   "id": "8aeeda4a",
   "metadata": {},
   "outputs": [
    {
     "data": {
      "text/plain": [
       "university.degree      0.295426\n",
       "high.school            0.231014\n",
       "basic.9y               0.146766\n",
       "professional.course    0.127294\n",
       "basic.4y               0.101389\n",
       "basic.6y               0.055647\n",
       "unknown                0.042027\n",
       "illiterate             0.000437\n",
       "Name: education, dtype: float64"
      ]
     },
     "execution_count": 46,
     "metadata": {},
     "output_type": "execute_result"
    }
   ],
   "source": [
    "# check the current distribution of values\n",
    "df.education.value_counts(normalize=True)"
   ]
  },
  {
   "cell_type": "code",
   "execution_count": 47,
   "id": "cddd99e6",
   "metadata": {},
   "outputs": [],
   "source": [
    "# impute the values for 'unknown'\n",
    "df.education = df.education.map(lambda x: impute_values(x, values, prob))"
   ]
  },
  {
   "cell_type": "code",
   "execution_count": 49,
   "id": "5d383a2d",
   "metadata": {},
   "outputs": [
    {
     "data": {
      "text/plain": [
       "university.degree      0.295450\n",
       "high.school            0.237618\n",
       "basic.9y               0.157060\n",
       "professional.course    0.140381\n",
       "basic.4y               0.105662\n",
       "basic.6y               0.060843\n",
       "illiterate             0.002986\n",
       "Name: education, dtype: float64"
      ]
     },
     "execution_count": 49,
     "metadata": {},
     "output_type": "execute_result"
    }
   ],
   "source": [
    "# recheck the new distribution of values\n",
    "df.education.value_counts(normalize=True)"
   ]
  },
  {
   "cell_type": "markdown",
   "id": "729626d9",
   "metadata": {},
   "source": [
    "#### Handling Housing unknown"
   ]
  },
  {
   "cell_type": "code",
   "execution_count": 51,
   "id": "b6df9e7d",
   "metadata": {},
   "outputs": [
    {
     "data": {
      "text/plain": [
       "['yes', 'no']"
      ]
     },
     "execution_count": 51,
     "metadata": {},
     "output_type": "execute_result"
    }
   ],
   "source": [
    "# get a unique list values and drop 'unknown'\n",
    "values = list(set(df.housing.values))\n",
    "values.remove('unknown')\n",
    "values"
   ]
  },
  {
   "cell_type": "code",
   "execution_count": 53,
   "id": "c702cab8",
   "metadata": {},
   "outputs": [
    {
     "data": {
      "text/plain": [
       "[0.5367431215483357, 0.46325687845166424]"
      ]
     },
     "execution_count": 53,
     "metadata": {},
     "output_type": "execute_result"
    }
   ],
   "source": [
    "# determine the weight of each value in the category \n",
    "prob = df[df['housing'] != 'unknown'].housing.value_counts(normalize=True)\n",
    "prob = [i/sum(prob) for i in prob]\n",
    "prob"
   ]
  },
  {
   "cell_type": "code",
   "execution_count": 55,
   "id": "879e2f5e",
   "metadata": {},
   "outputs": [
    {
     "data": {
      "text/plain": [
       "yes        0.523842\n",
       "no         0.452122\n",
       "unknown    0.024036\n",
       "Name: housing, dtype: float64"
      ]
     },
     "execution_count": 55,
     "metadata": {},
     "output_type": "execute_result"
    }
   ],
   "source": [
    "# check the current distribution of values\n",
    "df.housing.value_counts(normalize=True)"
   ]
  },
  {
   "cell_type": "code",
   "execution_count": 57,
   "id": "cdb8b239",
   "metadata": {},
   "outputs": [],
   "source": [
    "# impute the values for 'unknown'\n",
    "df.housing = df.housing.map(lambda x: impute_values(x, values, prob))"
   ]
  },
  {
   "cell_type": "code",
   "execution_count": 58,
   "id": "121eb433",
   "metadata": {},
   "outputs": [
    {
     "data": {
      "text/plain": [
       "yes    0.536176\n",
       "no     0.463824\n",
       "Name: housing, dtype: float64"
      ]
     },
     "execution_count": 58,
     "metadata": {},
     "output_type": "execute_result"
    }
   ],
   "source": [
    "# recheck the new distribution of values\n",
    "df.housing.value_counts(normalize=True)"
   ]
  },
  {
   "cell_type": "markdown",
   "id": "2084b0b6",
   "metadata": {},
   "source": [
    "#### Handling Loan unknown"
   ]
  },
  {
   "cell_type": "code",
   "execution_count": 59,
   "id": "acc39422",
   "metadata": {},
   "outputs": [
    {
     "data": {
      "text/plain": [
       "['yes', 'no']"
      ]
     },
     "execution_count": 59,
     "metadata": {},
     "output_type": "execute_result"
    }
   ],
   "source": [
    "# get a unique list values and drop 'unknown'\n",
    "values = list(set(df.loan.values))\n",
    "values.remove('unknown')\n",
    "values"
   ]
  },
  {
   "cell_type": "code",
   "execution_count": 62,
   "id": "a746f86e",
   "metadata": {},
   "outputs": [
    {
     "data": {
      "text/plain": [
       "[0.8445693815612717, 0.1554306184387283]"
      ]
     },
     "execution_count": 62,
     "metadata": {},
     "output_type": "execute_result"
    }
   ],
   "source": [
    "# determine the weight of each value in the category \n",
    "prob = df[df['loan'] != 'unknown'].loan.value_counts(normalize=True)\n",
    "prob = [i/sum(prob) for i in prob]\n",
    "prob"
   ]
  },
  {
   "cell_type": "code",
   "execution_count": 63,
   "id": "3eda2dd0",
   "metadata": {},
   "outputs": [
    {
     "data": {
      "text/plain": [
       "no         0.824269\n",
       "yes        0.151695\n",
       "unknown    0.024036\n",
       "Name: loan, dtype: float64"
      ]
     },
     "execution_count": 63,
     "metadata": {},
     "output_type": "execute_result"
    }
   ],
   "source": [
    "# check the current distribution of values\n",
    "df.loan.value_counts(normalize=True)"
   ]
  },
  {
   "cell_type": "code",
   "execution_count": 64,
   "id": "204b56f1",
   "metadata": {},
   "outputs": [],
   "source": [
    "# impute the values for 'unknown'\n",
    "df.loan = df.loan.map(lambda x: impute_values(x, values, prob))"
   ]
  },
  {
   "cell_type": "code",
   "execution_count": 65,
   "id": "a3c4887c",
   "metadata": {},
   "outputs": [
    {
     "data": {
      "text/plain": [
       "no     0.828032\n",
       "yes    0.171968\n",
       "Name: loan, dtype: float64"
      ]
     },
     "execution_count": 65,
     "metadata": {},
     "output_type": "execute_result"
    }
   ],
   "source": [
    "\n",
    "# check the new distribution of values\n",
    "df.loan.value_counts(normalize=True)"
   ]
  },
  {
   "cell_type": "markdown",
   "id": "58f747c0",
   "metadata": {},
   "source": [
    "#### Handling \"999\" placeholder\n",
    "The placeholder \"999\" value for `pdays`, which is the number of days since the customer was previously contacted, is very prevalent. Let's take a look at how much before deciding how to handle it."
   ]
  },
  {
   "cell_type": "code",
   "execution_count": 72,
   "id": "21a5c53c",
   "metadata": {},
   "outputs": [
    {
     "data": {
      "text/plain": [
       "999    0.963217\n",
       "3      0.010658\n",
       "6      0.010003\n",
       "4      0.002865\n",
       "9      0.001554\n",
       "2      0.001481\n",
       "7      0.001457\n",
       "12     0.001408\n",
       "10     0.001263\n",
       "5      0.001117\n",
       "13     0.000874\n",
       "11     0.000680\n",
       "1      0.000631\n",
       "15     0.000583\n",
       "14     0.000486\n",
       "8      0.000437\n",
       "0      0.000364\n",
       "16     0.000267\n",
       "17     0.000194\n",
       "18     0.000170\n",
       "19     0.000073\n",
       "22     0.000073\n",
       "21     0.000049\n",
       "20     0.000024\n",
       "25     0.000024\n",
       "26     0.000024\n",
       "27     0.000024\n",
       "Name: pdays, dtype: float64"
      ]
     },
     "execution_count": 72,
     "metadata": {},
     "output_type": "execute_result"
    }
   ],
   "source": [
    "# 3-3: check the the number of time '999' occurs relative to other values\n",
    "df.pdays.value_counts(normalize=True)"
   ]
  },
  {
   "cell_type": "markdown",
   "id": "f88fdc19",
   "metadata": {},
   "source": [
    "Notes:\n",
    "\n",
    "* The placeholder `999` represents over 96% of the values\n",
    "* 0 is also a value, which may mean that a customer had previously been called on the same day\n",
    "\n",
    "For now, we can create a new binary variable that indicates whether or not a customer had been previously contacted. With only 4% of customers having been previously contacted, this may not turn out to be a strong predictor. If it turns out that it is an important feature, then we can revisit."
   ]
  },
  {
   "cell_type": "code",
   "execution_count": 73,
   "id": "050ad57b",
   "metadata": {},
   "outputs": [
    {
     "data": {
      "text/html": [
       "<div>\n",
       "<style scoped>\n",
       "    .dataframe tbody tr th:only-of-type {\n",
       "        vertical-align: middle;\n",
       "    }\n",
       "\n",
       "    .dataframe tbody tr th {\n",
       "        vertical-align: top;\n",
       "    }\n",
       "\n",
       "    .dataframe thead th {\n",
       "        text-align: right;\n",
       "    }\n",
       "</style>\n",
       "<table border=\"1\" class=\"dataframe\">\n",
       "  <thead>\n",
       "    <tr style=\"text-align: right;\">\n",
       "      <th></th>\n",
       "      <th>age</th>\n",
       "      <th>job</th>\n",
       "      <th>marital</th>\n",
       "      <th>education</th>\n",
       "      <th>default</th>\n",
       "      <th>housing</th>\n",
       "      <th>loan</th>\n",
       "      <th>contact</th>\n",
       "      <th>month</th>\n",
       "      <th>day_of_week</th>\n",
       "      <th>duration</th>\n",
       "      <th>campaign</th>\n",
       "      <th>pdays</th>\n",
       "      <th>previous</th>\n",
       "      <th>poutcome</th>\n",
       "      <th>emp.var.rate</th>\n",
       "      <th>cons.price.idx</th>\n",
       "      <th>cons.conf.idx</th>\n",
       "      <th>euribor3m</th>\n",
       "      <th>nr.employed</th>\n",
       "      <th>y</th>\n",
       "      <th>p_contacted</th>\n",
       "    </tr>\n",
       "  </thead>\n",
       "  <tbody>\n",
       "    <tr>\n",
       "      <th>0</th>\n",
       "      <td>56</td>\n",
       "      <td>housemaid</td>\n",
       "      <td>married</td>\n",
       "      <td>basic.4y</td>\n",
       "      <td>no</td>\n",
       "      <td>no</td>\n",
       "      <td>no</td>\n",
       "      <td>telephone</td>\n",
       "      <td>may</td>\n",
       "      <td>mon</td>\n",
       "      <td>261</td>\n",
       "      <td>1</td>\n",
       "      <td>999</td>\n",
       "      <td>0</td>\n",
       "      <td>nonexistent</td>\n",
       "      <td>1.1</td>\n",
       "      <td>93.994</td>\n",
       "      <td>-36.4</td>\n",
       "      <td>4.857</td>\n",
       "      <td>5191.0</td>\n",
       "      <td>no</td>\n",
       "      <td>0</td>\n",
       "    </tr>\n",
       "    <tr>\n",
       "      <th>1</th>\n",
       "      <td>57</td>\n",
       "      <td>services</td>\n",
       "      <td>married</td>\n",
       "      <td>high.school</td>\n",
       "      <td>unknown</td>\n",
       "      <td>no</td>\n",
       "      <td>no</td>\n",
       "      <td>telephone</td>\n",
       "      <td>may</td>\n",
       "      <td>mon</td>\n",
       "      <td>149</td>\n",
       "      <td>1</td>\n",
       "      <td>999</td>\n",
       "      <td>0</td>\n",
       "      <td>nonexistent</td>\n",
       "      <td>1.1</td>\n",
       "      <td>93.994</td>\n",
       "      <td>-36.4</td>\n",
       "      <td>4.857</td>\n",
       "      <td>5191.0</td>\n",
       "      <td>no</td>\n",
       "      <td>0</td>\n",
       "    </tr>\n",
       "    <tr>\n",
       "      <th>2</th>\n",
       "      <td>37</td>\n",
       "      <td>services</td>\n",
       "      <td>married</td>\n",
       "      <td>high.school</td>\n",
       "      <td>no</td>\n",
       "      <td>yes</td>\n",
       "      <td>no</td>\n",
       "      <td>telephone</td>\n",
       "      <td>may</td>\n",
       "      <td>mon</td>\n",
       "      <td>226</td>\n",
       "      <td>1</td>\n",
       "      <td>999</td>\n",
       "      <td>0</td>\n",
       "      <td>nonexistent</td>\n",
       "      <td>1.1</td>\n",
       "      <td>93.994</td>\n",
       "      <td>-36.4</td>\n",
       "      <td>4.857</td>\n",
       "      <td>5191.0</td>\n",
       "      <td>no</td>\n",
       "      <td>0</td>\n",
       "    </tr>\n",
       "    <tr>\n",
       "      <th>3</th>\n",
       "      <td>40</td>\n",
       "      <td>admin.</td>\n",
       "      <td>married</td>\n",
       "      <td>basic.6y</td>\n",
       "      <td>no</td>\n",
       "      <td>no</td>\n",
       "      <td>no</td>\n",
       "      <td>telephone</td>\n",
       "      <td>may</td>\n",
       "      <td>mon</td>\n",
       "      <td>151</td>\n",
       "      <td>1</td>\n",
       "      <td>999</td>\n",
       "      <td>0</td>\n",
       "      <td>nonexistent</td>\n",
       "      <td>1.1</td>\n",
       "      <td>93.994</td>\n",
       "      <td>-36.4</td>\n",
       "      <td>4.857</td>\n",
       "      <td>5191.0</td>\n",
       "      <td>no</td>\n",
       "      <td>0</td>\n",
       "    </tr>\n",
       "    <tr>\n",
       "      <th>4</th>\n",
       "      <td>56</td>\n",
       "      <td>services</td>\n",
       "      <td>married</td>\n",
       "      <td>high.school</td>\n",
       "      <td>no</td>\n",
       "      <td>no</td>\n",
       "      <td>yes</td>\n",
       "      <td>telephone</td>\n",
       "      <td>may</td>\n",
       "      <td>mon</td>\n",
       "      <td>307</td>\n",
       "      <td>1</td>\n",
       "      <td>999</td>\n",
       "      <td>0</td>\n",
       "      <td>nonexistent</td>\n",
       "      <td>1.1</td>\n",
       "      <td>93.994</td>\n",
       "      <td>-36.4</td>\n",
       "      <td>4.857</td>\n",
       "      <td>5191.0</td>\n",
       "      <td>no</td>\n",
       "      <td>0</td>\n",
       "    </tr>\n",
       "  </tbody>\n",
       "</table>\n",
       "</div>"
      ],
      "text/plain": [
       "   age        job  marital    education  default housing loan    contact  \\\n",
       "0   56  housemaid  married     basic.4y       no      no   no  telephone   \n",
       "1   57   services  married  high.school  unknown      no   no  telephone   \n",
       "2   37   services  married  high.school       no     yes   no  telephone   \n",
       "3   40     admin.  married     basic.6y       no      no   no  telephone   \n",
       "4   56   services  married  high.school       no      no  yes  telephone   \n",
       "\n",
       "  month day_of_week  duration  campaign  pdays  previous     poutcome  \\\n",
       "0   may         mon       261         1    999         0  nonexistent   \n",
       "1   may         mon       149         1    999         0  nonexistent   \n",
       "2   may         mon       226         1    999         0  nonexistent   \n",
       "3   may         mon       151         1    999         0  nonexistent   \n",
       "4   may         mon       307         1    999         0  nonexistent   \n",
       "\n",
       "   emp.var.rate  cons.price.idx  cons.conf.idx  euribor3m  nr.employed   y  \\\n",
       "0           1.1          93.994          -36.4      4.857       5191.0  no   \n",
       "1           1.1          93.994          -36.4      4.857       5191.0  no   \n",
       "2           1.1          93.994          -36.4      4.857       5191.0  no   \n",
       "3           1.1          93.994          -36.4      4.857       5191.0  no   \n",
       "4           1.1          93.994          -36.4      4.857       5191.0  no   \n",
       "\n",
       "   p_contacted  \n",
       "0            0  \n",
       "1            0  \n",
       "2            0  \n",
       "3            0  \n",
       "4            0  "
      ]
     },
     "execution_count": 73,
     "metadata": {},
     "output_type": "execute_result"
    }
   ],
   "source": [
    "# create new indicator variable where or not a customer has been contacted\n",
    "# since 999 means \"not contacted\" we can use that as an identifier\n",
    "\n",
    "df['p_contacted'] = [0 if x == 999 else 1 for x in df.pdays] \n",
    "df.head()"
   ]
  },
  {
   "cell_type": "code",
   "execution_count": 74,
   "id": "4bb580d9",
   "metadata": {},
   "outputs": [
    {
     "data": {
      "text/plain": [
       "0    0.963217\n",
       "1    0.036783\n",
       "Name: p_contacted, dtype: float64"
      ]
     },
     "execution_count": 74,
     "metadata": {},
     "output_type": "execute_result"
    }
   ],
   "source": [
    "# check value counts for p_contacted to see if distribution remains the same around ~96% of 0s\n",
    "df.p_contacted.value_counts(normalize=True)"
   ]
  },
  {
   "cell_type": "markdown",
   "id": "43427827",
   "metadata": {},
   "source": [
    "This `p_contacted` distribution looks correct. This wraps up data cleaning for now. Now let's see how our data looks before we start transforming it for modeling."
   ]
  },
  {
   "cell_type": "markdown",
   "id": "0eee70d9",
   "metadata": {},
   "source": [
    "## 4. Exploratory Data Analysis and Feature Transformation"
   ]
  },
  {
   "cell_type": "code",
   "execution_count": null,
   "id": "27128499",
   "metadata": {},
   "outputs": [],
   "source": []
  }
 ],
 "metadata": {
  "kernelspec": {
   "display_name": "Python 3 (ipykernel)",
   "language": "python",
   "name": "python3"
  },
  "language_info": {
   "codemirror_mode": {
    "name": "ipython",
    "version": 3
   },
   "file_extension": ".py",
   "mimetype": "text/x-python",
   "name": "python",
   "nbconvert_exporter": "python",
   "pygments_lexer": "ipython3",
   "version": "3.9.7"
  }
 },
 "nbformat": 4,
 "nbformat_minor": 5
}
